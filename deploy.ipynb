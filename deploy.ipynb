{
 "cells": [
  {
   "cell_type": "code",
   "execution_count": 1,
   "id": "3ff1b299",
   "metadata": {},
   "outputs": [
    {
     "ename": "",
     "evalue": "",
     "output_type": "error",
     "traceback": [
      "\u001b[1;31mThe Kernel crashed while executing code in the current cell or a previous cell. \n",
      "\u001b[1;31mPlease review the code in the cell(s) to identify a possible cause of the failure. \n",
      "\u001b[1;31mClick <a href='https://aka.ms/vscodeJupyterKernelCrash'>here</a> for more info. \n",
      "\u001b[1;31mView Jupyter <a href='command:jupyter.viewOutput'>log</a> for further details."
     ]
    }
   ],
   "source": [
    "import torch\n",
    "from torchvision import models\n",
    "import torch.nn as nn\n",
    "import cv2\n",
    "import time\n",
    "from PIL import Image\n",
    "from torchvision import transforms\n",
    "\n",
    "# Define same model structure\n",
    "allowed_classes = ['cement', 'dry_leaf', 'grass', 'rocks', 'sand', 'soil', 'wood_chips']\n",
    "num_classes = len(allowed_classes)\n",
    "model = models.mobilenet_v2(weights=None)  # no preloaded weights\n",
    "\n",
    "model.classifier = nn.Sequential(\n",
    "    nn.Dropout(p=0.2, inplace=False),\n",
    "    nn.Linear(in_features=model.last_channel, out_features=64, bias=True),\n",
    "    nn.BatchNorm1d(64),\n",
    "    nn.ReLU(),\n",
    "\n",
    "   \n",
    "    nn.Dropout(p=0.2, inplace=False),\n",
    "    nn.Linear(in_features=64, out_features=num_classes, bias=True),\n",
    "\n",
    ")\n",
    "\n",
    "# Load weights\n",
    "model.load_state_dict(torch.load(\"model_25.pth\", map_location=torch.device('cpu')))\n",
    "model.eval()\n"
   ]
  },
  {
   "cell_type": "code",
   "execution_count": null,
   "id": "a0c809d9",
   "metadata": {},
   "outputs": [],
   "source": [
    "# Initialize camera\n",
    "cap = cv2.VideoCapture(0)\n",
    "\n",
    "# Define transform (must match training)\n",
    "transform = transforms.Compose([\n",
    "    transforms.Resize(256),\n",
    "    transforms.CenterCrop(224),\n",
    "    transforms.ToTensor(),\n",
    "    transforms.Normalize([0.485, 0.456, 0.406],\n",
    "                         [0.229, 0.224, 0.225])\n",
    "])\n",
    "\n",
    "# Load model and set to eval mode\n",
    "model.eval()\n",
    "\n",
    "# Define class names\n",
    "class_names = allowed_classes\n",
    "\n",
    "try:\n",
    "    print(\"Starting prediction loop. Press Ctrl+C to stop.\")\n",
    "    while True:\n",
    "        ret, frame = cap.read()\n",
    "        if not ret:\n",
    "            print(\"Failed to grab frame\")\n",
    "            break\n",
    "\n",
    "        # Convert and preprocess for model\n",
    "        img_rgb = cv2.cvtColor(frame, cv2.COLOR_BGR2RGB)\n",
    "        img_pil = Image.fromarray(img_rgb)\n",
    "        input_tensor = transform(img_pil).unsqueeze(0)\n",
    "\n",
    "        # Prediction\n",
    "        with torch.no_grad():\n",
    "            output = model(input_tensor)\n",
    "            _, pred = torch.max(output, 1)\n",
    "            predicted_class = class_names[pred.item()]\n",
    "            print(f\"[{time.strftime('%H:%M:%S')}] Predicted terrain: {predicted_class}\")\n",
    "\n",
    "        # Overlay predicted class name on frame\n",
    "        cv2.putText(frame, f\"Prediction: {predicted_class}\", (10, 30),\n",
    "                    cv2.FONT_HERSHEY_SIMPLEX, 1.0, (0, 255, 0), 2, cv2.LINE_AA)\n",
    "\n",
    "        # Show the frame\n",
    "        cv2.imshow(\"Terrain Classification\", frame)\n",
    "\n",
    "        # Wait for 1 second or 'q' key\n",
    "        if cv2.waitKey(1000) & 0xFF == ord('q'):\n",
    "            break\n",
    "\n",
    "except KeyboardInterrupt:\n",
    "    print(\"\\nInterrupted by user. Exiting...\")\n",
    "\n",
    "finally:\n",
    "    cap.release()\n",
    "    cv2.destroyAllWindows()"
   ]
  }
 ],
 "metadata": {
  "kernelspec": {
   "display_name": "base",
   "language": "python",
   "name": "python3"
  },
  "language_info": {
   "codemirror_mode": {
    "name": "ipython",
    "version": 3
   },
   "file_extension": ".py",
   "mimetype": "text/x-python",
   "name": "python",
   "nbconvert_exporter": "python",
   "pygments_lexer": "ipython3",
   "version": "3.12.3"
  }
 },
 "nbformat": 4,
 "nbformat_minor": 5
}
